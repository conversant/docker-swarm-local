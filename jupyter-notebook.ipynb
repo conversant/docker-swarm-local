{
 "cells": [
  {
   "cell_type": "markdown",
   "metadata": {},
   "source": [
    "## ENV VARS\n",
    "We require two environment variables:\n",
    "1. **USER** _(default: current user)_\n",
    "2. **HOST** _(default: docker-swarm-dev-manager)_"
   ]
  },
  {
   "cell_type": "code",
   "execution_count": null,
   "metadata": {},
   "outputs": [],
   "source": [
    "export USER=$(/usr/bin/whoami)\n",
    "echo $USER"
   ]
  },
  {
   "cell_type": "code",
   "execution_count": null,
   "metadata": {},
   "outputs": [],
   "source": [
    "export HOST=docker-swarm\n",
    "echo $HOST"
   ]
  },
  {
   "cell_type": "code",
   "execution_count": null,
   "metadata": {},
   "outputs": [],
   "source": [
    "# WARNING: removes $HOST if exists\n",
    "yes | docker-machine rm $HOST\n",
    "echo\n",
    "docker-machine ls"
   ]
  },
  {
   "cell_type": "markdown",
   "metadata": {},
   "source": [
    "## CREATE HOST"
   ]
  },
  {
   "cell_type": "code",
   "execution_count": null,
   "metadata": {},
   "outputs": [],
   "source": [
    "# create host\n",
    "docker-machine create -d virtualbox $HOST\n",
    "\n",
    "# 30+ seconds..."
   ]
  },
  {
   "cell_type": "code",
   "execution_count": null,
   "metadata": {},
   "outputs": [],
   "source": [
    "# check host is up and running\n",
    "docker-machine status $HOST"
   ]
  },
  {
   "cell_type": "code",
   "execution_count": null,
   "metadata": {},
   "outputs": [],
   "source": [
    "# get IP for new host\n",
    "export IP=$(docker-machine ip $HOST)\n",
    "echo $IP"
   ]
  },
  {
   "cell_type": "markdown",
   "metadata": {},
   "source": [
    "## HOSTS FILE\n",
    "Either copy the IP and Domains below to your local hosts file, or follow instructions to [configure Dnsmaq](https://gist.github.com/eloypnd/5efc3b590e7c738630fdcf0c10b68072) (configure a resolver for \"*dev*\")."
   ]
  },
  {
   "cell_type": "code",
   "execution_count": null,
   "metadata": {},
   "outputs": [],
   "source": [
    "# copy to /etc/hosts\n",
    "echo sudo nano /etc/hosts\n",
    "PORTAINER=portainer.$HOST.local\n",
    "REGISTRY=registry.$HOST.local\n",
    "echo $IP $PORTAINER\n",
    "echo $IP $REGISTRY"
   ]
  },
  {
   "cell_type": "code",
   "execution_count": null,
   "metadata": {},
   "outputs": [],
   "source": [
    "cat /etc/hosts"
   ]
  },
  {
   "cell_type": "markdown",
   "metadata": {},
   "source": [
    "## INIT SWARM"
   ]
  },
  {
   "cell_type": "code",
   "execution_count": null,
   "metadata": {},
   "outputs": [],
   "source": [
    "# init docker swarm\n",
    "docker-machine ssh $HOST -- docker swarm init --advertise-addr $IP"
   ]
  },
  {
   "cell_type": "code",
   "execution_count": null,
   "metadata": {},
   "outputs": [],
   "source": [
    "# export docker vars\n",
    "export DOCKER_TLS_VERIFY=1\n",
    "export DOCKER_HOST=tcp://$IP:2376\n",
    "export DOCKER_CERT_PATH=\"/Users/$USER/.docker/machine/machines/$HOST\"\n",
    "\n",
    "# subsequent \"docker\" commands will execute on the swarm manager"
   ]
  },
  {
   "cell_type": "markdown",
   "metadata": {},
   "source": [
    "## INSECURE REGISTRIES\n",
    "We're going to deploy a registry without authentication.\n",
    "\n",
    "We need to configure the manager to allow insecure registries.\n",
    "\n",
    "We specify this in [Docker's daemon.json file](https://docs.docker.com/registry/insecure/)"
   ]
  },
  {
   "cell_type": "code",
   "execution_count": null,
   "metadata": {},
   "outputs": [],
   "source": [
    "# create config for insecure-registries\n",
    "mkdir temp && echo '{ \"insecure-registries\" : [ \"'$IP':5000\" ] }' > temp/daemon.json\n",
    "\n",
    "# copy config to manager node\n",
    "docker-machine scp ./temp/daemon.json $HOST:/home/docker/daemon.json\n",
    "docker-machine ssh $HOST -- sudo cp /home/docker/daemon.json /etc/docker/daemon.json"
   ]
  },
  {
   "cell_type": "code",
   "execution_count": null,
   "metadata": {},
   "outputs": [],
   "source": [
    "# make sure it got there correctly\n",
    "docker-machine ssh $HOST cat /etc/docker/daemon.json"
   ]
  },
  {
   "cell_type": "code",
   "execution_count": null,
   "metadata": {},
   "outputs": [],
   "source": [
    "# restart docker to accept new config\n",
    "docker-machine ssh $HOST -- sudo /etc/init.d/docker restart\n",
    "docker-machine ssh $HOST -- sudo /etc/init.d/docker status"
   ]
  },
  {
   "cell_type": "markdown",
   "metadata": {},
   "source": [
    "## DOCKER REGISTRY\n",
    "Our first stack to deploy is our Docker Registry. This will be required for other stacks requiring a registry for tagged images."
   ]
  },
  {
   "cell_type": "code",
   "execution_count": null,
   "metadata": {},
   "outputs": [],
   "source": [
    "cat registry/stack.yml"
   ]
  },
  {
   "cell_type": "code",
   "execution_count": null,
   "metadata": {},
   "outputs": [],
   "source": [
    "# create overlay network: registry-net\n",
    "docker network create -d overlay registry-net"
   ]
  },
  {
   "cell_type": "code",
   "execution_count": null,
   "metadata": {},
   "outputs": [],
   "source": [
    "# mkdir for registry\n",
    "docker-machine ssh $HOST -- sudo mkdir /mnt/registry"
   ]
  },
  {
   "cell_type": "code",
   "execution_count": null,
   "metadata": {},
   "outputs": [],
   "source": [
    "# check that dir was created\n",
    "docker-machine ssh $HOST -- ls /mnt | grep registry"
   ]
  },
  {
   "cell_type": "code",
   "execution_count": null,
   "metadata": {
    "scrolled": true
   },
   "outputs": [],
   "source": [
    "# deploy stack\n",
    "docker stack deploy -c registry/stack.yml registry\n",
    "echo http://$IP:5000/v2/ "
   ]
  },
  {
   "cell_type": "code",
   "execution_count": null,
   "metadata": {},
   "outputs": [],
   "source": [
    "docker-machine ssh $HOST -- docker service ps registry_registry"
   ]
  },
  {
   "cell_type": "code",
   "execution_count": null,
   "metadata": {},
   "outputs": [],
   "source": [
    "# confirm 200 OK\n",
    "curl -v http://$IP:5000/v2/"
   ]
  },
  {
   "cell_type": "markdown",
   "metadata": {},
   "source": [
    "## TRAEFIK\n",
    "Now that we have a registry, we can build and deploy Traefik.\n",
    "\n",
    "Traefik is a reverse proxy we'll use for dynamic routing in subsequent stacks."
   ]
  },
  {
   "cell_type": "code",
   "execution_count": null,
   "metadata": {},
   "outputs": [],
   "source": [
    "cat traefik/stack.yml"
   ]
  },
  {
   "cell_type": "code",
   "execution_count": null,
   "metadata": {},
   "outputs": [],
   "source": [
    "# create overlay network: traefik-net\n",
    "docker network create -d overlay traefik-net"
   ]
  },
  {
   "cell_type": "code",
   "execution_count": null,
   "metadata": {},
   "outputs": [],
   "source": [
    "cat traefik/Dockerfile"
   ]
  },
  {
   "cell_type": "code",
   "execution_count": null,
   "metadata": {},
   "outputs": [],
   "source": [
    "cat traefik/traefik.toml"
   ]
  },
  {
   "cell_type": "code",
   "execution_count": null,
   "metadata": {},
   "outputs": [],
   "source": [
    "# build\n",
    "docker-compose -f traefik/stack.yml build"
   ]
  },
  {
   "cell_type": "code",
   "execution_count": null,
   "metadata": {},
   "outputs": [],
   "source": [
    "# push\n",
    "docker-compose -f traefik/stack.yml push"
   ]
  },
  {
   "cell_type": "code",
   "execution_count": null,
   "metadata": {},
   "outputs": [],
   "source": [
    "# confirm latest\n",
    "docker pull ${IP}:5000/traefik"
   ]
  },
  {
   "cell_type": "code",
   "execution_count": null,
   "metadata": {},
   "outputs": [],
   "source": [
    "# deploy stack\n",
    "docker stack deploy -c traefik/stack.yml traefik"
   ]
  },
  {
   "cell_type": "code",
   "execution_count": null,
   "metadata": {},
   "outputs": [],
   "source": [
    "docker-machine ssh $HOST -- docker service ps traefik_traefik"
   ]
  },
  {
   "cell_type": "code",
   "execution_count": null,
   "metadata": {},
   "outputs": [],
   "source": [
    "echo http://$IP/traefik\n",
    "curl -s http://192.168.99.100/traefik/health | jq"
   ]
  },
  {
   "cell_type": "markdown",
   "metadata": {},
   "source": [
    "## DOCKER REGISTRY FRONTEND"
   ]
  },
  {
   "cell_type": "code",
   "execution_count": null,
   "metadata": {},
   "outputs": [],
   "source": [
    "cat docker-registry-frontend/stack.yml"
   ]
  },
  {
   "cell_type": "code",
   "execution_count": null,
   "metadata": {},
   "outputs": [],
   "source": [
    "# deploy stack\n",
    "docker stack deploy -c docker-registry-frontend/stack.yml registry"
   ]
  },
  {
   "cell_type": "code",
   "execution_count": null,
   "metadata": {},
   "outputs": [],
   "source": [
    "docker-machine ssh $HOST -- docker service ps registry_registry-web"
   ]
  },
  {
   "cell_type": "code",
   "execution_count": null,
   "metadata": {},
   "outputs": [],
   "source": [
    "echo http://$REGISTRY"
   ]
  },
  {
   "cell_type": "markdown",
   "metadata": {},
   "source": [
    "## PORTAINER"
   ]
  },
  {
   "cell_type": "code",
   "execution_count": null,
   "metadata": {},
   "outputs": [],
   "source": [
    "cat portainer/stack.yml"
   ]
  },
  {
   "cell_type": "code",
   "execution_count": null,
   "metadata": {},
   "outputs": [],
   "source": [
    "# mkdir for portainer\n",
    "docker-machine ssh $HOST -- sudo mkdir /mnt/portainer"
   ]
  },
  {
   "cell_type": "code",
   "execution_count": null,
   "metadata": {},
   "outputs": [],
   "source": [
    "# check that dir was created\n",
    "docker-machine ssh $HOST -- ls /mnt | grep portainer"
   ]
  },
  {
   "cell_type": "code",
   "execution_count": null,
   "metadata": {},
   "outputs": [],
   "source": [
    "# deploy stack\n",
    "docker stack deploy -c portainer/stack.yml portainer"
   ]
  },
  {
   "cell_type": "code",
   "execution_count": null,
   "metadata": {},
   "outputs": [],
   "source": [
    "docker-machine ssh $HOST -- docker service ps portainer_portainer"
   ]
  },
  {
   "cell_type": "code",
   "execution_count": null,
   "metadata": {},
   "outputs": [],
   "source": [
    "# copy to /etc/hosts\n",
    "echo http://$PORTAINER"
   ]
  },
  {
   "cell_type": "markdown",
   "metadata": {},
   "source": [
    "## WORKER NODES"
   ]
  },
  {
   "cell_type": "code",
   "execution_count": null,
   "metadata": {},
   "outputs": [],
   "source": [
    "JOIN_CMD=$(docker swarm join-token worker | grep -oEi '(docker swarm join .+)$')\n",
    "echo $JOIN_CMD"
   ]
  },
  {
   "cell_type": "code",
   "execution_count": null,
   "metadata": {},
   "outputs": [],
   "source": [
    "# worker nodes\n",
    "W1=$HOST-worker1\n",
    "W2=$HOST-worker2\n",
    "echo $W1\n",
    "echo $W2"
   ]
  },
  {
   "cell_type": "code",
   "execution_count": null,
   "metadata": {},
   "outputs": [],
   "source": [
    "# WARNING: removes $HOST if exists\n",
    "yes | docker-machine rm $W1\n",
    "yes | docker-machine rm $W2"
   ]
  },
  {
   "cell_type": "code",
   "execution_count": null,
   "metadata": {},
   "outputs": [],
   "source": [
    "# create worker 1\n",
    "docker-machine create -d virtualbox $W1"
   ]
  },
  {
   "cell_type": "code",
   "execution_count": null,
   "metadata": {},
   "outputs": [],
   "source": [
    "# check host is up and running\n",
    "docker-machine status $W1"
   ]
  },
  {
   "cell_type": "code",
   "execution_count": null,
   "metadata": {},
   "outputs": [],
   "source": [
    "# create worker 2\n",
    "docker-machine create -d virtualbox $W2"
   ]
  },
  {
   "cell_type": "code",
   "execution_count": null,
   "metadata": {},
   "outputs": [],
   "source": [
    "# check host is up and running\n",
    "docker-machine status $W2"
   ]
  },
  {
   "cell_type": "code",
   "execution_count": null,
   "metadata": {},
   "outputs": [],
   "source": [
    "docker node ls"
   ]
  },
  {
   "cell_type": "code",
   "execution_count": null,
   "metadata": {},
   "outputs": [],
   "source": [
    "# join worker 1\n",
    "docker-machine ssh $W1 -- $JOIN_CMD"
   ]
  },
  {
   "cell_type": "code",
   "execution_count": null,
   "metadata": {},
   "outputs": [],
   "source": [
    "# join worker 2\n",
    "docker-machine ssh $W2 -- $JOIN_CMD"
   ]
  },
  {
   "cell_type": "code",
   "execution_count": null,
   "metadata": {},
   "outputs": [],
   "source": [
    "# verify swarm nodes\n",
    "docker node ls"
   ]
  },
  {
   "cell_type": "code",
   "execution_count": null,
   "metadata": {},
   "outputs": [],
   "source": []
  }
 ],
 "metadata": {
  "kernelspec": {
   "display_name": "Bash",
   "language": "bash",
   "name": "bash"
  },
  "language_info": {
   "codemirror_mode": "shell",
   "file_extension": ".sh",
   "mimetype": "text/x-sh",
   "name": "bash"
  }
 },
 "nbformat": 4,
 "nbformat_minor": 2
}
