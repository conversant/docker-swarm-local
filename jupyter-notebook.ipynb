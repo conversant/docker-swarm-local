{
 "cells": [
  {
   "cell_type": "markdown",
   "metadata": {},
   "source": [
    "## ENV VARS\n",
    "We require two environment variables:\n",
    "1. **USER** _(default: current user)_\n",
    "2. **HOST** _(default: docker-swarm-dev-manager)_"
   ]
  },
  {
   "cell_type": "code",
   "execution_count": null,
   "metadata": {},
   "outputs": [],
   "source": [
    "export USER=$(/usr/bin/whoami)\n",
    "echo $USER"
   ]
  },
  {
   "cell_type": "code",
   "execution_count": null,
   "metadata": {},
   "outputs": [],
   "source": [
    "export HOST=docker-swarm\n",
    "echo $HOST"
   ]
  },
  {
   "cell_type": "code",
   "execution_count": null,
   "metadata": {},
   "outputs": [],
   "source": [
    "# WARNING: removes $HOST if exists\n",
    "yes | docker-machine rm $HOST\n",
    "echo\n",
    "docker-machine ls"
   ]
  },
  {
   "cell_type": "markdown",
   "metadata": {},
   "source": [
    "## CREATE HOST"
   ]
  },
  {
   "cell_type": "code",
   "execution_count": null,
   "metadata": {},
   "outputs": [],
   "source": [
    "# create host\n",
    "docker-machine create -d virtualbox $HOST\n",
    "\n",
    "# 30+ seconds..."
   ]
  },
  {
   "cell_type": "code",
   "execution_count": null,
   "metadata": {},
   "outputs": [],
   "source": [
    "# check host is up and running\n",
    "docker-machine status $HOST"
   ]
  },
  {
   "cell_type": "code",
   "execution_count": null,
   "metadata": {},
   "outputs": [],
   "source": [
    "# get IP for new host\n",
    "export IP=$(docker-machine ip $HOST)\n",
    "echo $IP"
   ]
  },
  {
   "cell_type": "markdown",
   "metadata": {},
   "source": [
    "## HOSTS FILE\n",
    "Either copy the IP and Domains below to your local hosts file, or follow instructions to [configure Dnsmaq](https://gist.github.com/eloypnd/5efc3b590e7c738630fdcf0c10b68072) (configure a resolver for \"*dev*\")."
   ]
  },
  {
   "cell_type": "code",
   "execution_count": null,
   "metadata": {},
   "outputs": [],
   "source": [
    "# copy to /etc/hosts\n",
    "echo sudo nano /etc/hosts\n",
    "PORTAINER=portainer.$HOST.local\n",
    "REGISTRY=registry.$HOST.local\n",
    "echo $IP $PORTAINER\n",
    "echo $IP $REGISTRY"
   ]
  },
  {
   "cell_type": "code",
   "execution_count": null,
   "metadata": {},
   "outputs": [],
   "source": [
    "cat /etc/hosts"
   ]
  },
  {
   "cell_type": "markdown",
   "metadata": {},
   "source": [
    "## INIT SWARM"
   ]
  },
  {
   "cell_type": "code",
   "execution_count": null,
   "metadata": {},
   "outputs": [],
   "source": [
    "# init docker swarm\n",
    "docker-machine ssh $HOST -- docker swarm init --advertise-addr $IP"
   ]
  },
  {
   "cell_type": "code",
   "execution_count": null,
   "metadata": {},
   "outputs": [],
   "source": [
    "# export docker vars\n",
    "export DOCKER_TLS_VERIFY=1\n",
    "export DOCKER_HOST=tcp://$IP:2376\n",
    "export DOCKER_CERT_PATH=\"/Users/$USER/.docker/machine/machines/$HOST\"\n",
    "\n",
    "# subsequent \"docker\" commands will execute on the swarm manager"
   ]
  },
  {
   "cell_type": "markdown",
   "metadata": {},
   "source": [
    "## INSECURE REGISTRIES\n",
    "We're going to deploy a registry without authentication.\n",
    "\n",
    "We need to configure the manager to allow insecure registries.\n",
    "\n",
    "We specify this in [Docker's daemon.json file](https://docs.docker.com/registry/insecure/)"
   ]
  },
  {
   "cell_type": "code",
   "execution_count": null,
   "metadata": {
    "scrolled": true
   },
   "outputs": [],
   "source": [
    "# create config for insecure-registries\n",
    "mkdir temp\n",
    "echo '{ \"insecure-registries\" : [ \"'$IP':5000\" ] }' > temp/daemon.json\n",
    "\n",
    "# copy config to manager node\n",
    "docker-machine scp ./temp/daemon.json $HOST:/home/docker/daemon.json\n",
    "docker-machine ssh $HOST -- sudo cp /home/docker/daemon.json /etc/docker/daemon.json"
   ]
  },
  {
   "cell_type": "code",
   "execution_count": null,
   "metadata": {},
   "outputs": [],
   "source": [
    "# make sure it got there correctly\n",
    "docker-machine ssh $HOST cat /etc/docker/daemon.json"
   ]
  },
  {
   "cell_type": "code",
   "execution_count": null,
   "metadata": {},
   "outputs": [],
   "source": [
    "# restart docker to accept new config\n",
    "docker-machine ssh $HOST -- sudo /etc/init.d/docker restart\n",
    "docker-machine ssh $HOST -- sudo /etc/init.d/docker status"
   ]
  },
  {
   "cell_type": "markdown",
   "metadata": {},
   "source": [
    "## DOCKER REGISTRY\n",
    "Our first stack to deploy is our Docker Registry. This will be required for other stacks requiring a registry for tagged images."
   ]
  },
  {
   "cell_type": "code",
   "execution_count": null,
   "metadata": {},
   "outputs": [],
   "source": [
    "cat registry/stack.yml"
   ]
  },
  {
   "cell_type": "code",
   "execution_count": null,
   "metadata": {},
   "outputs": [],
   "source": [
    "# create overlay network: registry-net\n",
    "docker network create -d overlay registry-net"
   ]
  },
  {
   "cell_type": "code",
   "execution_count": null,
   "metadata": {},
   "outputs": [],
   "source": [
    "# mkdir for registry\n",
    "docker-machine ssh $HOST -- sudo mkdir /mnt/registry"
   ]
  },
  {
   "cell_type": "code",
   "execution_count": null,
   "metadata": {},
   "outputs": [],
   "source": [
    "# check that dir was created\n",
    "docker-machine ssh $HOST -- ls /mnt | grep registry"
   ]
  },
  {
   "cell_type": "code",
   "execution_count": null,
   "metadata": {
    "scrolled": true
   },
   "outputs": [],
   "source": [
    "# deploy stack\n",
    "docker stack deploy -c registry/stack.yml registry\n",
    "echo http://$IP:5000/v2/ "
   ]
  },
  {
   "cell_type": "code",
   "execution_count": null,
   "metadata": {},
   "outputs": [],
   "source": [
    "docker-machine ssh $HOST -- docker service ps registry_registry"
   ]
  },
  {
   "cell_type": "code",
   "execution_count": null,
   "metadata": {},
   "outputs": [],
   "source": [
    "# confirm 200 OK\n",
    "curl -v http://$IP:5000/v2/"
   ]
  },
  {
   "cell_type": "markdown",
   "metadata": {},
   "source": [
    "## TRAEFIK\n",
    "Now that we have a registry, we can build and deploy Traefik.\n",
    "\n",
    "Traefik is a reverse proxy we'll use for dynamic routing in subsequent stacks."
   ]
  },
  {
   "cell_type": "code",
   "execution_count": null,
   "metadata": {},
   "outputs": [],
   "source": [
    "cat traefik/stack.yml"
   ]
  },
  {
   "cell_type": "code",
   "execution_count": null,
   "metadata": {},
   "outputs": [],
   "source": [
    "# create overlay network: traefik-net\n",
    "docker network create -d overlay traefik-net"
   ]
  },
  {
   "cell_type": "code",
   "execution_count": null,
   "metadata": {},
   "outputs": [],
   "source": [
    "cat traefik/Dockerfile"
   ]
  },
  {
   "cell_type": "code",
   "execution_count": null,
   "metadata": {},
   "outputs": [],
   "source": [
    "cat traefik/traefik.toml"
   ]
  },
  {
   "cell_type": "code",
   "execution_count": null,
   "metadata": {},
   "outputs": [],
   "source": [
    "# build\n",
    "docker-compose -f traefik/stack.yml build"
   ]
  },
  {
   "cell_type": "code",
   "execution_count": null,
   "metadata": {},
   "outputs": [],
   "source": [
    "# push\n",
    "docker-compose -f traefik/stack.yml push"
   ]
  },
  {
   "cell_type": "code",
   "execution_count": null,
   "metadata": {},
   "outputs": [],
   "source": [
    "# confirm latest\n",
    "docker pull ${IP}:5000/traefik"
   ]
  },
  {
   "cell_type": "code",
   "execution_count": null,
   "metadata": {},
   "outputs": [],
   "source": [
    "# deploy stack\n",
    "docker stack deploy -c traefik/stack.yml traefik"
   ]
  },
  {
   "cell_type": "code",
   "execution_count": null,
   "metadata": {},
   "outputs": [],
   "source": [
    "docker-machine ssh $HOST -- docker service ps traefik_traefik"
   ]
  },
  {
   "cell_type": "code",
   "execution_count": null,
   "metadata": {},
   "outputs": [],
   "source": [
    "echo http://$IP/traefik\n",
    "curl -s http://$IP/traefik/health | jq"
   ]
  },
  {
   "cell_type": "markdown",
   "metadata": {},
   "source": [
    "## DOCKER REGISTRY FRONTEND"
   ]
  },
  {
   "cell_type": "code",
   "execution_count": null,
   "metadata": {},
   "outputs": [],
   "source": [
    "cat docker-registry-frontend/stack.yml"
   ]
  },
  {
   "cell_type": "code",
   "execution_count": null,
   "metadata": {},
   "outputs": [],
   "source": [
    "# deploy stack\n",
    "docker stack deploy -c docker-registry-frontend/stack.yml registry"
   ]
  },
  {
   "cell_type": "code",
   "execution_count": null,
   "metadata": {},
   "outputs": [],
   "source": [
    "docker-machine ssh $HOST -- docker service ps registry_registry-web"
   ]
  },
  {
   "cell_type": "code",
   "execution_count": null,
   "metadata": {},
   "outputs": [],
   "source": [
    "echo http://$REGISTRY"
   ]
  },
  {
   "cell_type": "markdown",
   "metadata": {},
   "source": [
    "## PORTAINER"
   ]
  },
  {
   "cell_type": "code",
   "execution_count": null,
   "metadata": {},
   "outputs": [],
   "source": [
    "cat portainer/stack.yml"
   ]
  },
  {
   "cell_type": "code",
   "execution_count": null,
   "metadata": {},
   "outputs": [],
   "source": [
    "# mkdir for portainer\n",
    "docker-machine ssh $HOST -- sudo mkdir /mnt/portainer"
   ]
  },
  {
   "cell_type": "code",
   "execution_count": null,
   "metadata": {},
   "outputs": [],
   "source": [
    "# check that dir was created\n",
    "docker-machine ssh $HOST -- ls /mnt | grep portainer"
   ]
  },
  {
   "cell_type": "code",
   "execution_count": null,
   "metadata": {},
   "outputs": [],
   "source": [
    "# deploy stack\n",
    "docker stack deploy -c portainer/stack.yml portainer"
   ]
  },
  {
   "cell_type": "code",
   "execution_count": null,
   "metadata": {},
   "outputs": [],
   "source": [
    "docker-machine ssh $HOST -- docker service ps portainer_portainer"
   ]
  },
  {
   "cell_type": "code",
   "execution_count": null,
   "metadata": {},
   "outputs": [],
   "source": [
    "docker-machine ssh $HOST -- docker service ps portainer_agent"
   ]
  },
  {
   "cell_type": "code",
   "execution_count": null,
   "metadata": {},
   "outputs": [],
   "source": [
    "# copy to /etc/hosts\n",
    "echo http://$PORTAINER"
   ]
  },
  {
   "cell_type": "markdown",
   "metadata": {},
   "source": [
    "## WORKER NODES"
   ]
  },
  {
   "cell_type": "code",
   "execution_count": null,
   "metadata": {},
   "outputs": [],
   "source": [
    "JOIN_CMD=$(docker swarm join-token worker | grep -oEi '(docker swarm join .+)$')\n",
    "echo $JOIN_CMD"
   ]
  },
  {
   "cell_type": "code",
   "execution_count": null,
   "metadata": {},
   "outputs": [],
   "source": [
    "# worker nodes\n",
    "W1=$HOST-worker1\n",
    "W2=$HOST-worker2\n",
    "echo $W1\n",
    "echo $W2"
   ]
  },
  {
   "cell_type": "code",
   "execution_count": null,
   "metadata": {},
   "outputs": [],
   "source": [
    "# WARNING: removes $HOST if exists\n",
    "yes | docker-machine rm $W1\n",
    "yes | docker-machine rm $W2"
   ]
  },
  {
   "cell_type": "code",
   "execution_count": null,
   "metadata": {},
   "outputs": [],
   "source": [
    "# create worker 1\n",
    "docker-machine create -d virtualbox $W1"
   ]
  },
  {
   "cell_type": "code",
   "execution_count": null,
   "metadata": {},
   "outputs": [],
   "source": [
    "# check host is up and running\n",
    "docker-machine status $W1"
   ]
  },
  {
   "cell_type": "code",
   "execution_count": null,
   "metadata": {},
   "outputs": [],
   "source": [
    "# create worker 2\n",
    "docker-machine create -d virtualbox $W2"
   ]
  },
  {
   "cell_type": "code",
   "execution_count": null,
   "metadata": {},
   "outputs": [],
   "source": [
    "# check host is up and running\n",
    "docker-machine status $W2"
   ]
  },
  {
   "cell_type": "code",
   "execution_count": null,
   "metadata": {},
   "outputs": [],
   "source": [
    "docker-machine ip $W1\n",
    "docker-machine ip $W2"
   ]
  },
  {
   "cell_type": "code",
   "execution_count": null,
   "metadata": {},
   "outputs": [],
   "source": [
    "docker node ls"
   ]
  },
  {
   "cell_type": "code",
   "execution_count": null,
   "metadata": {},
   "outputs": [],
   "source": [
    "# join worker 1\n",
    "docker-machine ssh $W1 -- $JOIN_CMD"
   ]
  },
  {
   "cell_type": "code",
   "execution_count": null,
   "metadata": {},
   "outputs": [],
   "source": [
    "# join worker 2\n",
    "docker-machine ssh $W2 -- $JOIN_CMD"
   ]
  },
  {
   "cell_type": "code",
   "execution_count": null,
   "metadata": {},
   "outputs": [],
   "source": [
    "# verify swarm nodes\n",
    "docker node ls"
   ]
  },
  {
   "cell_type": "markdown",
   "metadata": {},
   "source": [
    "## KEEPALIVED"
   ]
  },
  {
   "cell_type": "code",
   "execution_count": null,
   "metadata": {},
   "outputs": [],
   "source": [
    "export VIP=192.168.99.99"
   ]
  },
  {
   "cell_type": "code",
   "execution_count": null,
   "metadata": {},
   "outputs": [],
   "source": [
    "# create virtual IP on $HOST:\n",
    "docker-machine ssh $HOST -- sudo ifconfig eth0:0 $VIP\n",
    "docker-machine ssh $HOST -- ifconfig eth0:0\n",
    "docker-machine ssh $HOST -- ping -c 1 $VIP"
   ]
  },
  {
   "cell_type": "code",
   "execution_count": null,
   "metadata": {},
   "outputs": [],
   "source": [
    "# create virtual IP on $W1:\n",
    "docker-machine ssh $W1 -- sudo ifconfig eth0:0 $VIP\n",
    "docker-machine ssh $W1 -- ifconfig eth0:0\n",
    "docker-machine ssh $W1 -- ping -c 1 $VIP"
   ]
  },
  {
   "cell_type": "code",
   "execution_count": null,
   "metadata": {},
   "outputs": [],
   "source": [
    "# create virtual IP on $W2:\n",
    "docker-machine ssh $W2 -- sudo ifconfig eth0:0 $VIP\n",
    "docker-machine ssh $W2 -- ifconfig eth0:0\n",
    "docker-machine ssh $W2 -- ping -c 1 $VIP"
   ]
  },
  {
   "cell_type": "code",
   "execution_count": null,
   "metadata": {},
   "outputs": [],
   "source": [
    "# Enable IPVS module\n",
    "mkdir temp\n",
    "echo \"modprobe ip_vs\" > temp/rc.local\n",
    "\n",
    "# copy config to $HOST\n",
    "docker-machine scp ./temp/rc.local $HOST:/home/docker/rc.local\n",
    "docker-machine ssh $HOST -- sudo cp /home/docker/rc.local /etc/rc.local\n",
    "\n",
    "# copy config to $W1\n",
    "docker-machine scp ./temp/rc.local $W1:/home/docker/rc.local\n",
    "docker-machine ssh $W1 -- sudo cp /home/docker/rc.local /etc/rc.local\n",
    "\n",
    "# copy config to $W2\n",
    "docker-machine scp ./temp/rc.local $W2:/home/docker/rc.local\n",
    "docker-machine ssh $W2 -- sudo cp /home/docker/rc.local /etc/rc.local\n",
    "\n",
    "echo\n",
    "echo verifying copies\n",
    "echo $HOST: $(docker-machine ssh $HOST -- cat /etc/rc.local)\n",
    "echo $W1: $(docker-machine ssh $W1 -- cat /etc/rc.local)\n",
    "echo $W2: $(docker-machine ssh $W2 -- cat /etc/rc.local)"
   ]
  },
  {
   "cell_type": "code",
   "execution_count": null,
   "metadata": {},
   "outputs": [],
   "source": [
    "docker-machine ssh $HOST -- modprobe ip_vs\n",
    "docker-machine ssh $W1 -- modprobe ip_vs\n",
    "docker-machine ssh $W2 -- modprobe ip_vs"
   ]
  },
  {
   "cell_type": "code",
   "execution_count": null,
   "metadata": {},
   "outputs": [],
   "source": [
    "cat keepalived/stack.yml"
   ]
  },
  {
   "cell_type": "code",
   "execution_count": null,
   "metadata": {},
   "outputs": [],
   "source": [
    "# default environment for keepalived\n",
    "\n",
    "docker-machine ssh $HOST -- sudo mkdir /etc/keepalived\n",
    "docker-machine ssh $HOST -- sudo mkdir /etc/keepalived/environment\n",
    "docker-machine scp ./keepalived/environment/default.yaml $HOST:/home/docker/keepalived-env.yaml\n",
    "docker-machine ssh $HOST -- sudo cp /home/docker/keepalived-env.yaml /etc/keepalived/environment/default.yaml\n",
    "#docker-machine ssh $HOST -- sudo sed -i 's/KEEPALIVED_PRIORITY: 150/KEEPALIVED_PRIORITY: 100/' /etc/keepalived/environment/default.yaml && cat /etc/keepalived/environment/default.yaml\n",
    "\n",
    "docker-machine ssh $W1 -- sudo mkdir /etc/keepalived\n",
    "docker-machine ssh $W1 -- sudo mkdir /etc/keepalived/environment\n",
    "docker-machine scp ./keepalived/environment/default.yaml $W1:/home/docker/keepalived-env.yaml\n",
    "docker-machine ssh $W1 -- sudo cp /home/docker/keepalived-env.yaml /etc/keepalived/environment/default.yaml\n",
    "#docker-machine ssh $W1 -- sudo sed -i 's/KEEPALIVED_PRIORITY: 150/KEEPALIVED_PRIORITY: 150/' /etc/keepalived/environment/default.yaml && cat /etc/keepalived/environment/default.yaml\n",
    "\n",
    "docker-machine ssh $W2 -- sudo mkdir /etc/keepalived\n",
    "docker-machine ssh $W2 -- sudo mkdir /etc/keepalived/environment\n",
    "docker-machine scp ./keepalived/environment/default.yaml $W2:/home/docker/keepalived-env.yaml\n",
    "docker-machine ssh $W2 -- sudo cp /home/docker/keepalived-env.yaml /etc/keepalived/environment/default.yaml\n",
    "#docker-machine ssh $W2 -- sudo sed -i 's/KEEPALIVED_PRIORITY: 150/KEEPALIVED_PRIORITY: 200/' /etc/keepalived/environment/default.yaml && cat /etc/keepalived/environment/default.yaml\n"
   ]
  },
  {
   "cell_type": "code",
   "execution_count": null,
   "metadata": {},
   "outputs": [],
   "source": [
    "docker-machine ssh $HOST -- sudo sed -i 's/\\$\\{KEEPALIVED_PRIORITY\\}/100/' /etc/keepalived/environment/default.yaml\n",
    "docker-machine ssh $W1 -- sudo sed -i 's/\\$\\{KEEPALIVED_PRIORITY\\}/150/' /etc/keepalived/environment/default.yaml\n",
    "docker-machine ssh $W2 -- sudo sed -i 's/\\$\\{KEEPALIVED_PRIORITY\\}/200/' /etc/keepalived/environment/default.yaml\n"
   ]
  },
  {
   "cell_type": "code",
   "execution_count": null,
   "metadata": {},
   "outputs": [],
   "source": [
    "echo $HOST: $(docker-machine ssh $HOST -- cat /etc/keepalived/environment/default.yaml | grep KEEPALIVED_PRIORITY)\n",
    "echo $W1: $(docker-machine ssh $W1 -- cat /etc/keepalived/environment/default.yaml | grep KEEPALIVED_PRIORITY)\n",
    "echo $W2: $(docker-machine ssh $W2 -- cat /etc/keepalived/environment/default.yaml | grep KEEPALIVED_PRIORITY)"
   ]
  },
  {
   "cell_type": "code",
   "execution_count": null,
   "metadata": {},
   "outputs": [],
   "source": [
    "# deploy stack\n",
    "docker stack deploy -c keepalived/stack.yml keepalived"
   ]
  },
  {
   "cell_type": "code",
   "execution_count": null,
   "metadata": {},
   "outputs": [],
   "source": [
    "docker-machine ssh $HOST -- docker service ps keepalived_keepalived"
   ]
  },
  {
   "cell_type": "code",
   "execution_count": null,
   "metadata": {},
   "outputs": [],
   "source": []
  }
 ],
 "metadata": {
  "kernelspec": {
   "display_name": "Bash",
   "language": "bash",
   "name": "bash"
  },
  "language_info": {
   "codemirror_mode": "shell",
   "file_extension": ".sh",
   "mimetype": "text/x-sh",
   "name": "bash"
  }
 },
 "nbformat": 4,
 "nbformat_minor": 2
}
